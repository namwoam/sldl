{
 "cells": [
  {
   "cell_type": "markdown",
   "metadata": {},
   "source": [
    "### 統計學習與深度學習 (Fall, 2024)\n",
    "### Homework 1\n",
    "\n",
    "請將IPYNB檔與IPYNB Export之HTML檔上傳至COOL作業區。作業自己做。嚴禁抄襲。不接受紙本繳交，不接受遲交。請以英文或中文作答。\n",
    "如無其他規定，所有重要結果應顯示至小數點第四位(四捨五入)。本次作業盡可能使用scikit-learn的函數與numpy進行實作。禁止使用Auto-SKlearn或其他AutoML工具。\n"
   ]
  },
  {
   "cell_type": "markdown",
   "metadata": {},
   "source": [
    "### 第一題 [Ridge Regression Baseline]\n",
    "\n",
    "(30%) 以Ridge Regression進行房價預測。Regularizaiton coefficient (alphas)應考慮介於0.01至100之間的數值，且至少應考慮十種可能的數值。\n",
    "\n",
    "訓練資料檔案為'housing_5cities_train.csv', 測試資料檔案為 'housing_5cities_testa.csv'。預測標的為'單價'。你的模型應包含以下特徵:\n",
    "* 建物面積\n",
    "* 總樓層數\n",
    "* 屋齡\n",
    "* 縣市\n",
    "* 鄉鎮市區\n",
    "* 主要用途\n",
    "* 主要建材\n",
    "* 建物型態\n",
    "\n",
    "類別型特徵應進行適當的轉換。\n",
    "\n",
    "(1) 畫出高雄市資料點的分布，橫坐標為x軸，縱坐標為y軸。依照單價將資料點上色。說明你對資料點個觀察。\n",
    "\n",
    "(2) 列出最終選用的Regularization Coefficient，以下模型參數，並報告模型在測試資料的預測能力 (包含R2、RMSE、MAE、MAPE)。\n",
    "* Constant term coefficient\n",
    "* 建物面積\n",
    "* 總樓層數\n",
    "* 屋齡\n",
    "* 台中市\n",
    "* 台北市\n",
    "* 新北市\n",
    "* 桃園市\n",
    "* 高雄市"
   ]
  },
  {
   "cell_type": "markdown",
   "metadata": {},
   "source": [
    "### 第二題 [Gaussian Basis Function]\n",
    "\n",
    "(30%) Gaussian Basis Function (GBF) 常用來擴展特徵。在房價預測中，我們可以挑選某些位置作為GBF的均數，並設定合理的變異數，即可利用GBF識別某筆資料是否為在選定的位置附近。\n",
    "\n",
    "我們在課程中定義過一維情境下計算GBF特徵值的公式為:\n",
    "\n",
    "$exp(- \\frac{(x_a - \\mu_j)^2}{2 s_j^2}), $\n",
    "\n",
    "其中 $x_a$ 為資料點，而 $mu_j$  是選定的錨點 (Anchor)，標準差$s_j$ 是用來控管要訂多寬的區域。\n",
    "\n",
    "房價資料的位置資訊為二維空間，因此如果資料點的位置是 $(x_a, y_a)$, 錨點是 $(\\mu_{xj}, \\mu_{yj})$、標準差是 $(s_{xj}, s_{yj})$，那GBF特徵值為:\n",
    "\n",
    "$exp(- \\frac{(x_a - \\mu_{xj})^2}{2 s_{xj}^2} - \\frac{(y_a - \\mu_{yj})^2}{2 s_{yj}^2} )$\n",
    "\n",
    "這題我們只選擇一個錨點，定為所有高雄市的訓練資料的中心點。X軸的標準差為高雄市的資料X座標的標準差，並利用相同的方式定Y軸的標準差。利用上面的公式計算GBF資料數值。\n",
    "\n",
    "(1) 列出錨點座標與標準差\n",
    "\n",
    "(2) 為所有訓練資料計算GBF特徵值，並且依照縣市列出這個特徵值的count, mean, std, min, 25%, 50%, 75%, max。\n"
   ]
  },
  {
   "cell_type": "markdown",
   "metadata": {},
   "source": [
    "### 第三題 [Applying GBF in Prediction Models]\n",
    "\n",
    "(40%) 依照以下方式產生錨點，並使用GBF生成新的特徵，與第一題所有的特徵合併後，建構新的Ridge Regression預測模型，並計算其在測試資料上的預測能力(包含R2、RMSE、MAE、MAPE)。\n",
    "\n",
    "對每個城市C，找出能包含所有資料點的長方形，並將橫軸與縱軸個切$K$等分，形成$K^2$個格子。如果一個格子內有超過20個資料點，計算這個格子內的所有資料點的均數與標準差，做為一個錨點。格子內如果少於20個資料點則直接略過這個格子。\n",
    "\n",
    "(1) 列出各縣市的錨點。\n",
    "\n",
    "(2) 設K=3, 列出測試資料的R2、RMSE、MAE、MAPE，並與第一題比較。\n"
   ]
  }
 ],
 "metadata": {
  "kernelspec": {
   "display_name": "Python 3 (ipykernel)",
   "language": "python",
   "name": "python3"
  },
  "language_info": {
   "codemirror_mode": {
    "name": "ipython",
    "version": 3
   },
   "file_extension": ".py",
   "mimetype": "text/x-python",
   "name": "python",
   "nbconvert_exporter": "python",
   "pygments_lexer": "ipython3",
   "version": "3.12.4"
  }
 },
 "nbformat": 4,
 "nbformat_minor": 4
}
