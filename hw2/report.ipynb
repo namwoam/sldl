{
 "cells": [
  {
   "cell_type": "markdown",
   "metadata": {},
   "source": [
    "# Statistical Learning and Deep Learning, Fall 2024 HW2\n",
    "B11705009 An-Che, Liang"
   ]
  },
  {
   "cell_type": "markdown",
   "metadata": {},
   "source": [
    "## Part1: Logistic Regression: Probability, Loss, Gradient, and Weights"
   ]
  },
  {
   "cell_type": "code",
   "execution_count": 1,
   "metadata": {},
   "outputs": [
    {
     "data": {
      "text/plain": [
       "dict_keys(['x_train', 'y_train', 'x_test', 'y_test', 'columnname', 'num_col', 'x_subtrain', 'x_subvalid', 'y_subtrain', 'y_subvalid', 'x_subtrain_ib', 'y_subtrain_ib'])"
      ]
     },
     "execution_count": 1,
     "metadata": {},
     "output_type": "execute_result"
    }
   ],
   "source": [
    "import pickle\n",
    "\n",
    "filepath = 'adult_m50kv2.pickle'\n",
    "with open(filepath, 'rb') as fh1:\n",
    "    adult50kp = pickle.load(fh1)\n",
    "adult50kp.keys()"
   ]
  },
  {
   "cell_type": "markdown",
   "metadata": {},
   "source": [
    "### (1-a) Predict probability function"
   ]
  },
  {
   "cell_type": "code",
   "execution_count": 2,
   "metadata": {},
   "outputs": [],
   "source": [
    "import numpy as np\n",
    "\n",
    "\n",
    "def pred_prob(X, intercept, coefs, twocol=True):\n",
    "    linear_combination = X @ coefs + intercept\n",
    "    prob_pos = 1 / (1 + np.exp(-linear_combination))\n",
    "\n",
    "    if twocol:\n",
    "        prob_neg = 1 - prob_pos\n",
    "        return np.column_stack((prob_neg, prob_pos))\n",
    "    else:\n",
    "        return prob_pos.reshape(-1, 1)"
   ]
  },
  {
   "cell_type": "markdown",
   "metadata": {},
   "source": [
    "### (1-b) Loss function with L2 Regularization "
   ]
  },
  {
   "cell_type": "code",
   "execution_count": 3,
   "metadata": {},
   "outputs": [],
   "source": [
    "def lr_logloss(Xtrain, ytrain, intercept, coefs, C):\n",
    "    prob = pred_prob(Xtrain, intercept, coefs, twocol=False)\n",
    "    prob = prob.flatten()  # convert to 1D array\n",
    "    \n",
    "    # compute log loss\n",
    "    log_loss = -np.mean(ytrain * np.log(prob) + (1 - ytrain) * np.log(1 - prob))\n",
    "    \n",
    "    # compute regularization term, but exclude the intercept term\n",
    "    regularization = (1 / (2 * C)) * np.sum(coefs ** 2)\n",
    "    \n",
    "    # compute total loss\n",
    "    total_loss = log_loss + regularization\n",
    "    return total_loss"
   ]
  },
  {
   "cell_type": "markdown",
   "metadata": {},
   "source": [
    "### (1-c) Model training"
   ]
  },
  {
   "cell_type": "code",
   "execution_count": 4,
   "metadata": {},
   "outputs": [
    {
     "name": "stdout",
     "output_type": "stream",
     "text": [
      "Intercept: -1.5029\n",
      "Coefficients:\n",
      "  capital-loss: 0.2566\n",
      "  hours-per-week: 0.3527\n",
      "  capital-gain: 2.3682\n",
      "  educational-num: 0.693\n",
      "  age: 0.3386\n",
      "  fnlwgt: 0.081\n",
      "  relationship_Husband: -0.1697\n",
      "  relationship_Not-in-family: -0.053\n",
      "  relationship_Other-relative: -0.7189\n",
      "  relationship_Own-child: -1.1709\n",
      "  relationship_Unmarried: -0.1586\n",
      "  relationship_Wife: 1.197\n",
      "  race_Amer-Indian-Eskimo: -0.578\n",
      "  race_Asian-Pac-Islander: 0.1654\n",
      "  race_Black: -0.2165\n",
      "  race_Other: -0.384\n",
      "  race_White: -0.061\n",
      "  gender_Female: -0.9933\n",
      "  gender_Male: -0.0808\n",
      "  occupation_Adm-clerical: 0.028\n",
      "  occupation_Craft-repair: 0.0731\n",
      "  occupation_Exec-managerial: 0.8506\n",
      "  occupation_Farming-fishing: -0.9402\n",
      "  occupation_Handlers-cleaners: -0.6231\n",
      "  occupation_Machine-op-inspct: -0.2472\n",
      "  occupation_Other-service: -0.7641\n",
      "  occupation_Priv-house-serv: -1.3187\n",
      "  occupation_Prof-specialty: 0.5347\n",
      "  occupation_Protective-serv: 0.5454\n",
      "  occupation_Sales: 0.3309\n",
      "  occupation_Tech-support: 0.7092\n",
      "  occupation_Transport-moving: -0.04\n",
      "  education_10th: -0.1262\n",
      "  education_11th: -0.2221\n",
      "  education_12th: -0.1628\n",
      "  education_1st-4th: 0.6404\n",
      "  education_5th-6th: 0.2369\n",
      "  education_7th-8th: -0.2292\n",
      "  education_9th: -0.0645\n",
      "  education_Assoc-acdm: -0.4883\n",
      "  education_Assoc-voc: -0.1687\n",
      "  education_Bachelors: -0.1565\n",
      "  education_Doctorate: 0.1717\n",
      "  education_HS-grad: -0.1599\n",
      "  education_Masters: -0.0302\n",
      "  education_Preschool: -0.4861\n",
      "  education_Prof-school: 0.2789\n",
      "  education_Some-college: -0.1077\n",
      "  native-country_Cambodia: 0.8295\n",
      "  native-country_Canada: 0.4055\n",
      "  native-country_China: -0.4602\n",
      "  native-country_Columbia: -1.2215\n",
      "  native-country_Cuba: 0.508\n",
      "  native-country_Dominican-Republic: -0.799\n",
      "  native-country_Ecuador: -0.231\n",
      "  native-country_El-Salvador: -0.4191\n",
      "  native-country_England: 0.5715\n",
      "  native-country_France: 0.5342\n",
      "  native-country_Germany: 0.5908\n",
      "  native-country_Greece: -0.4993\n",
      "  native-country_Guatemala: -0.1026\n",
      "  native-country_Haiti: 0.3732\n",
      "  native-country_Honduras: -0.0641\n",
      "  native-country_Hong: -0.0629\n",
      "  native-country_Hungary: 0.1673\n",
      "  native-country_India: -0.441\n",
      "  native-country_Iran: 0.1268\n",
      "  native-country_Ireland: 0.294\n",
      "  native-country_Italy: 1.0223\n",
      "  native-country_Jamaica: 0.1784\n",
      "  native-country_Japan: 0.4949\n",
      "  native-country_Laos: 0.0343\n",
      "  native-country_Mexico: -0.3157\n",
      "  native-country_Nicaragua: -0.2058\n",
      "  native-country_Outlying-US(Guam-USVI-etc): -0.3679\n",
      "  native-country_Peru: -0.3335\n",
      "  native-country_Philippines: 0.3429\n",
      "  native-country_Poland: 0.0101\n",
      "  native-country_Portugal: -0.2113\n",
      "  native-country_Puerto-Rico: -0.3613\n",
      "  native-country_Scotland: 0.038\n",
      "  native-country_South: -1.1319\n",
      "  native-country_Taiwan: -0.1356\n",
      "  native-country_Thailand: -0.2271\n",
      "  native-country_Trinadad&Tobago: -0.0562\n",
      "  native-country_United-States: 0.3529\n",
      "  native-country_Vietnam: -0.6312\n",
      "  native-country_Yugoslavia: 0.3367\n",
      "  workclass_Federal-gov: 0.4847\n",
      "  workclass_Local-gov: -0.157\n",
      "  workclass_Private: -0.0076\n",
      "  workclass_Self-emp-inc: 0.1472\n",
      "  workclass_Self-emp-not-inc: -0.5124\n",
      "  workclass_State-gov: -0.3441\n",
      "  workclass_Without-pay: -0.6847\n",
      "  marital-status_Divorced: -0.6189\n",
      "  marital-status_Married-AF-spouse: 1.3933\n",
      "  marital-status_Married-civ-spouse: 1.1234\n",
      "  marital-status_Married-spouse-absent: -0.5934\n",
      "  marital-status_Never-married: -1.1375\n",
      "  marital-status_Separated: -0.7709\n",
      "  marital-status_Widowed: -0.4701\n"
     ]
    }
   ],
   "source": [
    "from sklearn.linear_model import LogisticRegression\n",
    "from sklearn.metrics import accuracy_score, recall_score, precision_score, f1_score\n",
    "\n",
    "\n",
    "lr_model = LogisticRegression(penalty='l2', C=1.0)\n",
    "lr_model.fit(adult50kp['x_subtrain'], adult50kp['y_subtrain'])\n",
    "\n",
    "# Print the model's parameters, to the precision of 4 decimal places\n",
    "print(\"Intercept:\", round(lr_model.intercept_[0], 4))\n",
    "print(\"Coefficients:\")\n",
    "for col_name, coef in zip(adult50kp['columnname'], lr_model.coef_[0]):\n",
    "    print(f\"  {col_name}: {round(coef, 4)}\")"
   ]
  },
  {
   "cell_type": "code",
   "execution_count": 5,
   "metadata": {},
   "outputs": [
    {
     "name": "stdout",
     "output_type": "stream",
     "text": [
      "Test Set Evaluation Metrics:\n",
      "  Accuracy: 0.8479\n",
      "  Recall: 0.6054\n",
      "  Precision: 0.7296\n",
      "  F1: 0.6617\n"
     ]
    }
   ],
   "source": [
    "# Evaluete on the testing set\n",
    "y_test_pred = lr_model.predict(adult50kp['x_test'])\n",
    "\n",
    "# Compute evaluation metrics\n",
    "accuracy = accuracy_score(adult50kp['y_test'], y_test_pred)\n",
    "recall = recall_score(adult50kp['y_test'], y_test_pred)\n",
    "precision = precision_score(adult50kp['y_test'], y_test_pred)\n",
    "f1 = f1_score(adult50kp['y_test'], y_test_pred)\n",
    "print(\"Test Set Evaluation Metrics:\")\n",
    "print(f\"  Accuracy: {accuracy:.4f}\")\n",
    "print(f\"  Recall: {recall:.4f}\")\n",
    "print(f\"  Precision: {precision:.4f}\")\n",
    "print(f\"  F1: {f1:.4f}\")"
   ]
  },
  {
   "cell_type": "markdown",
   "metadata": {},
   "source": [
    "### (1-d) Loss function visualization"
   ]
  },
  {
   "cell_type": "code",
   "execution_count": 6,
   "metadata": {},
   "outputs": [
    {
     "data": {
      "image/png": "[encoded data removed]",
      "text/plain": [
       "<Figure size 1200x600 with 1 Axes>"
      ]
     },
     "metadata": {},
     "output_type": "display_data"
    }
   ],
   "source": [
    "import numpy as np\n",
    "import matplotlib.pyplot as plt\n",
    "\n",
    "# get the intercept and coefficients\n",
    "intercept = lr_model.intercept_[0]\n",
    "coefs = lr_model.coef_[0].copy()\n",
    "\n",
    "# plot the loss function around the intercept\n",
    "intercept_range = np.linspace(intercept - 1, intercept + 1, 100)\n",
    "loss_intercept = [\n",
    "    lr_logloss(adult50kp['x_subtrain'], adult50kp['y_subtrain'], i, coefs, C=1.0)\n",
    "    for i in intercept_range\n",
    "]\n",
    "\n",
    "plt.figure(figsize=(12, 6))\n",
    "plt.plot(intercept_range, loss_intercept, color=\"b\")\n",
    "plt.xlabel(\"Intercept\")\n",
    "plt.ylabel(\"Loss\")\n",
    "plt.title(\"Loss Function around Intercept\")\n",
    "plt.show()"
   ]
  },
  {
   "cell_type": "code",
   "execution_count": 7,
   "metadata": {},
   "outputs": [
    {
     "data": {
      "image/png": "[encoded data removed]",
      "text/plain": [
       "<Figure size 1200x600 with 1 Axes>"
      ]
     },
     "metadata": {},
     "output_type": "display_data"
    }
   ],
   "source": [
    "# find the index of the capital-loss coefficient\n",
    "capital_loss_idx = list(adult50kp['columnname']).index('capital-loss')\n",
    "coef_range = np.linspace(coefs[capital_loss_idx] - 1, coefs[capital_loss_idx] + 1, 100)\n",
    "loss_coef = []\n",
    "\n",
    "# plot the loss function around the capital-loss coefficient\n",
    "for coef in coef_range:\n",
    "    coefs_temp = coefs.copy()\n",
    "    coefs_temp[capital_loss_idx] = coef\n",
    "    loss = lr_logloss(adult50kp['x_subtrain'], adult50kp['y_subtrain'], intercept, coefs_temp, C=1.0)\n",
    "    loss_coef.append(loss)\n",
    "\n",
    "plt.figure(figsize=(12, 6))\n",
    "plt.plot(coef_range, loss_coef, label=\"Loss vs Capital-loss Coefficient\", color=\"g\")\n",
    "plt.xlabel(\"Capital-loss Coefficient\")\n",
    "plt.ylabel(\"Loss\")\n",
    "plt.title(\"Loss Function around Capital-loss Coefficient\")\n",
    "plt.legend()\n",
    "plt.show()"
   ]
  },
  {
   "cell_type": "markdown",
   "metadata": {},
   "source": [
    "## Part2: Chi-Squared Feature Selection"
   ]
  },
  {
   "cell_type": "code",
   "execution_count": 8,
   "metadata": {},
   "outputs": [],
   "source": [
    "import numpy as np\n",
    "import pandas as pd\n",
    "\n",
    "def my_chi2_fs(X, y):\n",
    "    # store the chi2 statistics for each feature\n",
    "    chi2_stats = []\n",
    "    \n",
    "    for column in X.columns:\n",
    "        contingency_table = pd.crosstab(X[column], y)\n",
    "        observed = contingency_table.values\n",
    "        # calculate the expected values\n",
    "        col_sum = observed.sum(axis=0)\n",
    "        row_sum = observed.sum(axis=1)\n",
    "        total = observed.sum()\n",
    "        expected = np.outer(row_sum, col_sum) / total\n",
    "        # calculate the chi2 statistic\n",
    "        chi2 = np.sum((observed - expected) ** 2 / expected)\n",
    "        chi2_stats.append(chi2)\n",
    "    \n",
    "    # return the chi2 statistics\n",
    "    return np.array(chi2_stats)"
   ]
  },
  {
   "cell_type": "code",
   "execution_count": 9,
   "metadata": {},
   "outputs": [
    {
     "name": "stdout",
     "output_type": "stream",
     "text": [
      "gender               0.1106\n",
      "major                4.1315\n",
      "race                 0.9505\n",
      "work_industry        16.3957\n"
     ]
    }
   ],
   "source": [
    "import pickle\n",
    "dsfile = \"mbav1.pickle\"\n",
    "with open(dsfile, \"rb\") as fh1:\n",
    "    mba = pickle.load(fh1)\n",
    "\n",
    "# get the categorical columns\n",
    "catcol = mba['x_train'].select_dtypes('object').columns\n",
    "x_traincat = mba['x_train'][catcol].copy()\n",
    "\n",
    "# compute the chi2 statistics\n",
    "chi2vec = my_chi2_fs(x_traincat, mba['y_train'])\n",
    "\n",
    "# print the chi2 statistics\n",
    "for i, acol in enumerate(x_traincat.columns):\n",
    "    print(f\"{acol:20s} {chi2vec[i]:.4f}\")"
   ]
  },
  {
   "cell_type": "markdown",
   "metadata": {},
   "source": [
    "## Part3: Forward Feature Selection"
   ]
  },
  {
   "cell_type": "markdown",
   "metadata": {},
   "source": [
    "### (3-a) Count features"
   ]
  },
  {
   "cell_type": "code",
   "execution_count": 10,
   "metadata": {},
   "outputs": [
    {
     "name": "stdout",
     "output_type": "stream",
     "text": [
      "Features: 102\n",
      "Training data: 27000\n",
      "Validation data: 3162\n",
      "Test data: 15060\n"
     ]
    }
   ],
   "source": [
    "import pickle\n",
    "\n",
    "\n",
    "dsfile = 'adult_m50kv2.pickle'\n",
    "with open(dsfile, 'rb') as fh1:\n",
    "    adult50kp = pickle.load(fh1)\n",
    "\n",
    "\n",
    "x_subtrain = adult50kp['x_subtrain']\n",
    "y_subtrain = adult50kp['y_subtrain']\n",
    "x_subvalid = adult50kp['x_subvalid']\n",
    "y_subvalid = adult50kp['y_subvalid']\n",
    "x_test = adult50kp['x_test']\n",
    "y_test = adult50kp['y_test']\n",
    "\n",
    "\n",
    "n_train = x_subtrain.shape[0]\n",
    "n_valid = x_subvalid.shape[0]\n",
    "n_test = x_test.shape[0]\n",
    "n_features = x_subtrain.shape[1]\n",
    "\n",
    "# print the number of features and data points in each set\n",
    "print(f\"Features: {n_features}\")\n",
    "print(f\"Training data: {n_train}\")\n",
    "print(f\"Validation data: {n_valid}\")\n",
    "print(f\"Test data: {n_test}\")\n"
   ]
  },
  {
   "cell_type": "markdown",
   "metadata": {},
   "source": [
    "### (3-b) Train the model and calcaulate F1 score"
   ]
  },
  {
   "cell_type": "code",
   "execution_count": 11,
   "metadata": {},
   "outputs": [
    {
     "name": "stdout",
     "output_type": "stream",
     "text": [
      "Validation F1 Score (all features): 0.6685\n",
      "Test F1 Score (all features): 0.6623\n"
     ]
    }
   ],
   "source": [
    "from sklearn.linear_model import LogisticRegression\n",
    "from sklearn.metrics import f1_score\n",
    "\n",
    "# Train a logistic regression model\n",
    "model = LogisticRegression(solver='lbfgs', C=1000, max_iter=1000, tol=1e-5)\n",
    "model.fit(x_subtrain, y_subtrain)\n",
    "\n",
    "# Calculate the F1 score on the validation set\n",
    "y_valid_pred = model.predict(x_subvalid)\n",
    "y_test_pred = model.predict(x_test)\n",
    "\n",
    "f1_valid_full = f1_score(y_subvalid, y_valid_pred)\n",
    "f1_test_full = f1_score(y_test, y_test_pred)\n",
    "\n",
    "print(f\"Validation F1 Score (all features): {f1_valid_full:.4f}\")\n",
    "print(f\"Test F1 Score (all features): {f1_test_full:.4f}\")\n"
   ]
  },
  {
   "cell_type": "markdown",
   "metadata": {},
   "source": [
    "### (3-c) Foward feature selection"
   ]
  },
  {
   "cell_type": "code",
   "execution_count": 16,
   "metadata": {},
   "outputs": [
    {
     "name": "stdout",
     "output_type": "stream",
     "text": [
      "Selected Feature Index: 3, Validation F1 Score: 0.3205\n",
      "Selected Feature Index: 97, Validation F1 Score: 0.5532\n",
      "Selected Feature Index: 2, Validation F1 Score: 0.6263\n",
      "Selected Feature Index: 21, Validation F1 Score: 0.6429\n",
      "Selected Feature Index: 0, Validation F1 Score: 0.6546\n",
      "Selected Feature Index: 25, Validation F1 Score: 0.6573\n",
      "Selected Feature Index: 24, Validation F1 Score: 0.6611\n",
      "Selected Feature Index: 19, Validation F1 Score: 0.6644\n",
      "Selected Feature Index: 81, Validation F1 Score: 0.6653\n",
      "Selected Feature Index: 30, Validation F1 Score: 0.6662\n",
      "Selected Feature Index: 9, Validation F1 Score: 0.6676\n",
      "Selected Feature Index: 8, Validation F1 Score: 0.6680\n",
      "Selected Feature Index: 7, Validation F1 Score: 0.6685\n",
      "Selected Feature Index: 69, Validation F1 Score: 0.6690\n",
      "x_train_selected shape: (27000, 14)\n",
      "y_subtrain shape: (27000,)\n",
      "x_test_selected shape: (15060, 14)\n",
      "y_test shape: (15060,)\n",
      "\n",
      "Final Selected Features Indices: [3, 97, 2, 21, 0, 25, 24, 19, 81, 30, 9, 8, 7, 69]\n",
      "Test F1 Score (selected features): 0.6571\n"
     ]
    }
   ],
   "source": [
    "selected_features = []\n",
    "best_f1_valid = 0\n",
    "improved = True\n",
    "num_features = x_subtrain.shape[1]\n",
    "\n",
    "while improved:\n",
    "    improved = False\n",
    "    best_feature = None\n",
    "    best_f1 = best_f1_valid\n",
    "    \n",
    "    for feature_index in range(num_features):\n",
    "        if feature_index in selected_features:\n",
    "            continue\n",
    "\n",
    "        # Construct a temporary feature set with selected features plus the new feature index\n",
    "        features_to_test = selected_features + [feature_index]\n",
    "        x_train_temp = x_subtrain[:, features_to_test]\n",
    "        x_valid_temp = x_subvalid[:, features_to_test]\n",
    "        \n",
    "        # Train model\n",
    "        model = LogisticRegression(solver='lbfgs', C=1000, max_iter=1000, tol=1e-5)\n",
    "        model.fit(x_train_temp, y_subtrain)\n",
    "        \n",
    "        # Calculate validation F1 Score\n",
    "        y_valid_pred = model.predict(x_valid_temp)\n",
    "        f1_valid = f1_score(y_subvalid, y_valid_pred)\n",
    "        \n",
    "        # Update if F1 Score improves\n",
    "        if f1_valid > best_f1:\n",
    "            best_f1 = f1_valid\n",
    "            best_feature = feature_index\n",
    "            improved = True\n",
    "    \n",
    "    # Add the best feature to selected_features if there was an improvement\n",
    "    if improved:\n",
    "        selected_features.append(best_feature)\n",
    "        best_f1_valid = best_f1\n",
    "        print(f\"Selected Feature Index: {best_feature}, Validation F1 Score: {best_f1_valid:.4f}\")\n",
    "\n",
    "# Final selected features will be a list of feature indices\n",
    "\n",
    "\n",
    "# Train the final model on the selected features\n",
    "# Final selected features\n",
    "x_train_selected = x_subtrain[:, selected_features]  # Shape should be (num_samples, num_selected_features)\n",
    "x_test_selected = x_test[:, selected_features]\n",
    "\n",
    "# Verify the shape consistency\n",
    "print(f\"x_train_selected shape: {x_train_selected.shape}\")\n",
    "print(f\"y_subtrain shape: {y_subtrain.shape}\")\n",
    "print(f\"x_test_selected shape: {x_test_selected.shape}\")\n",
    "print(f\"y_test shape: {y_test.shape}\")\n",
    "\n",
    "# Train the final model with the selected features\n",
    "model_final = LogisticRegression(solver='lbfgs', C=1000, max_iter=1000, tol=1e-5)\n",
    "model_final.fit(x_train_selected, y_subtrain)\n",
    "\n",
    "# Make predictions and calculate F1 score on the test set\n",
    "y_test_pred_final = model_final.predict(x_test_selected)\n",
    "f1_test_final = f1_score(y_test, y_test_pred_final)\n",
    "\n",
    "print(\"\\nFinal Selected Features Indices:\", selected_features)\n",
    "print(f\"Test F1 Score (selected features): {f1_test_final:.4f}\")\n"
   ]
  },
  {
   "cell_type": "markdown",
   "metadata": {},
   "source": [
    "### (3-d) Discussion"
   ]
  },
  {
   "cell_type": "code",
   "execution_count": 17,
   "metadata": {},
   "outputs": [
    {
     "name": "stdout",
     "output_type": "stream",
     "text": [
      "Selected Features and their indices:\n",
      "Feature Index: 3, Feature Name: educational-num\n",
      "Feature Index: 97, Feature Name: marital-status_Married-civ-spouse\n",
      "Feature Index: 2, Feature Name: capital-gain\n",
      "Feature Index: 21, Feature Name: occupation_Exec-managerial\n",
      "Feature Index: 0, Feature Name: capital-loss\n",
      "Feature Index: 25, Feature Name: occupation_Other-service\n",
      "Feature Index: 24, Feature Name: occupation_Machine-op-inspct\n",
      "Feature Index: 19, Feature Name: occupation_Adm-clerical\n",
      "Feature Index: 81, Feature Name: native-country_South\n",
      "Feature Index: 30, Feature Name: occupation_Tech-support\n",
      "Feature Index: 9, Feature Name: relationship_Own-child\n",
      "Feature Index: 8, Feature Name: relationship_Other-relative\n",
      "Feature Index: 7, Feature Name: relationship_Not-in-family\n",
      "Feature Index: 69, Feature Name: native-country_Jamaica\n"
     ]
    }
   ],
   "source": [
    "# Assuming 'columnname' contains the feature names as given in the dataset\n",
    "feature_names = adult50kp['columnname']  # List of all feature names in the original dataset\n",
    "selected_feature_names = [feature_names[i] for i in selected_features]  # Get names of selected features\n",
    "\n",
    "print(\"Selected Features and their indices:\")\n",
    "for idx, feature in zip(selected_features, selected_feature_names):\n",
    "    print(f\"Feature Index: {idx}, Feature Name: {feature}\")\n"
   ]
  },
  {
   "cell_type": "markdown",
   "metadata": {},
   "source": [
    "The features selected during Forward Feature Selection indicate the most influential variables in predicting income from the dataset. Here’s an explanation of each feature's potential significance:\n",
    "\n",
    "1. **`educational-num`**: This variable typically represents the years of education an individual has completed. Education level is a strong predictor of income since higher educational attainment often correlates with higher-paying jobs and better employment opportunities.\n",
    "\n",
    "2. **`marital-status_Married-civ-spouse`**: Marital status, specifically being married to a civilian spouse, can impact income as it often correlates with household income levels, stability, and potentially combined income benefits.\n",
    "\n",
    "3. **`capital-gain`**: Capital gains represent income from investments and are generally associated with higher income brackets, as individuals with significant capital gains typically have more wealth.\n",
    "\n",
    "Overall, these features suggest that education, job type, financial assets, and family or relationship structure are influential in predicting income level, aligning with socioeconomic factors that commonly affect earnings. This selection aligns well with expectations in socioeconomic studies, where education, occupation, financial activities, and family roles are major determinants of income. \n",
    "\n"
   ]
  }
 ],
 "metadata": {
  "kernelspec": {
   "display_name": "sldl-pwhQZ0rV-py3.12",
   "language": "python",
   "name": "python3"
  },
  "language_info": {
   "codemirror_mode": {
    "name": "ipython",
    "version": 3
   },
   "file_extension": ".py",
   "mimetype": "text/x-python",
   "name": "python",
   "nbconvert_exporter": "python",
   "pygments_lexer": "ipython3",
   "version": "3.12.7"
  }
 },
 "nbformat": 4,
 "nbformat_minor": 2
}
